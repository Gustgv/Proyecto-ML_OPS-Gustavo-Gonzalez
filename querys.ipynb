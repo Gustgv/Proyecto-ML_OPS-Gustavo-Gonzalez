{
 "cells": [
  {
   "attachments": {},
   "cell_type": "markdown",
   "metadata": {},
   "source": [
    "QUERIES\n",
    "\n",
    "- En este apartado, creare las funciones que serviran para atender las queries que ingresaran al API"
   ]
  },
  {
   "cell_type": "code",
   "execution_count": 83,
   "metadata": {},
   "outputs": [],
   "source": [
    "import pandas as pd\n",
    "import numpy as np"
   ]
  },
  {
   "cell_type": "code",
   "execution_count": 84,
   "metadata": {},
   "outputs": [],
   "source": [
    "movie_score = pd.read_csv('movie_data.csv')\n"
   ]
  },
  {
   "attachments": {},
   "cell_type": "markdown",
   "metadata": {},
   "source": [
    "- Película con mayor duración con filtros opcionales de AÑO, PLATAFORMA Y TIPO DE DURACIÓN."
   ]
  },
  {
   "cell_type": "code",
   "execution_count": 85,
   "metadata": {},
   "outputs": [],
   "source": [
    "def get_max_duration(year, platform, duration_type):\n",
    "    \n",
    "    filters = movie_score[['id','title', 'release_year', 'duration_int', 'duration_type', 'score']].loc[(movie_score['release_year'] == year) & (movie_score['platform'] == platform) & (movie_score['duration_type'] == duration_type)]\n",
    "    filters = filters.sort_values('duration_int', ascending= False).head(1)\n",
    "    try:\n",
    "        return f'{filters.iloc[0,1]} del año {filters.iloc[0,2]}, es la pelicula con mayor duracion, teniendo {filters.iloc[0,3]} {filters.iloc[0,4]} de duracion'\n",
    "    except:\n",
    "        return 'No existen valores para esta busqueda'"
   ]
  },
  {
   "cell_type": "code",
   "execution_count": 86,
   "metadata": {},
   "outputs": [
    {
     "data": {
      "text/plain": [
       "'No existen valores para esta busqueda'"
      ]
     },
     "execution_count": 86,
     "metadata": {},
     "output_type": "execute_result"
    }
   ],
   "source": [
    "get_max_duration(2022, 'amazon', 'min')"
   ]
  },
  {
   "attachments": {},
   "cell_type": "markdown",
   "metadata": {},
   "source": [
    "- Cantidad de películas por plataforma con un puntaje mayor a XX en determinado año (la función debe llamarse get_score_count(platform, scored, year))"
   ]
  },
  {
   "cell_type": "code",
   "execution_count": 87,
   "metadata": {},
   "outputs": [],
   "source": [
    "def get_score_count(platform, scored, year):\n",
    "    \n",
    "    result = movie_score[['platform', 'score']].loc[(movie_score['platform'] == platform ) & (movie_score['score'] >= scored) & (movie_score['release_year'] == year)].groupby('platform').count()\n",
    "    \n",
    "    try:\n",
    "        return f'Cantidad de peliculas en {platform} en el año  {year}: {result.iloc[0, 0]} peliculas'\n",
    "    except:\n",
    "        return 'No existen valores para esta busqueda'"
   ]
  },
  {
   "cell_type": "code",
   "execution_count": 88,
   "metadata": {},
   "outputs": [
    {
     "data": {
      "text/plain": [
       "'No existen valores para esta busqueda'"
      ]
     },
     "execution_count": 88,
     "metadata": {},
     "output_type": "execute_result"
    }
   ],
   "source": [
    "get_score_count('hulu', 3.6, 2023)"
   ]
  },
  {
   "attachments": {},
   "cell_type": "markdown",
   "metadata": {},
   "source": [
    "Cantidad de películas por plataforma con filtro de PLATAFORMA. (La función debe llamarse get_count_platform(platform))"
   ]
  },
  {
   "cell_type": "code",
   "execution_count": 89,
   "metadata": {},
   "outputs": [],
   "source": [
    "def get_count_platform(platform):\n",
    "    \n",
    "    cuenta = movie_score[['platform', 'score']].loc[(movie_score['platform'] == platform)].groupby('platform').count()\n",
    "    try:\n",
    "        return f'Cantidad de peliculas en {platform}: {cuenta.iloc[0, 0]} peliculas'\n",
    "    except:\n",
    "        return 'No existen valores para esta busqueda'"
   ]
  },
  {
   "cell_type": "code",
   "execution_count": 90,
   "metadata": {},
   "outputs": [
    {
     "data": {
      "text/plain": [
       "'Cantidad de peliculas en disney: 1450 peliculas'"
      ]
     },
     "execution_count": 90,
     "metadata": {},
     "output_type": "execute_result"
    }
   ],
   "source": [
    "get_count_platform('disney')"
   ]
  },
  {
   "attachments": {},
   "cell_type": "markdown",
   "metadata": {},
   "source": [
    "Actor que más se repite según plataforma y año. (La función debe llamarse get_actor(platform, year))"
   ]
  },
  {
   "cell_type": "code",
   "execution_count": 113,
   "metadata": {},
   "outputs": [],
   "source": [
    "def get_actor(platform, year):\n",
    "\n",
    "    year_plat = movie_score['cast'].loc[(movie_score['platform'] == platform) & (movie_score['release_year'] == year)]\n",
    "\n",
    "    cast = year_plat.str.split(',', expand= True)\n",
    "    cast = pd.melt(cast)\n",
    "    cast = cast['value'].dropna()\n",
    "    result = cast.value_counts().head(1).reset_index(drop= False)\n",
    "    \n",
    "    try:\n",
    "        return f'El actor que mas se repite en el año {year} por {platform}: {result.iloc[0,0]}'\n",
    "    except:\n",
    "        return 'No existen valores para esta busqueda'"
   ]
  },
  {
   "cell_type": "code",
   "execution_count": 124,
   "metadata": {},
   "outputs": [
    {
     "data": {
      "text/plain": [
       "'El actor que mas se repite en el año 2018 por netflix:  andrea libman'"
      ]
     },
     "execution_count": 124,
     "metadata": {},
     "output_type": "execute_result"
    }
   ],
   "source": [
    "get_actor('netflix', 2018)"
   ]
  }
 ],
 "metadata": {
  "kernelspec": {
   "display_name": "Python 3",
   "language": "python",
   "name": "python3"
  },
  "language_info": {
   "codemirror_mode": {
    "name": "ipython",
    "version": 3
   },
   "file_extension": ".py",
   "mimetype": "text/x-python",
   "name": "python",
   "nbconvert_exporter": "python",
   "pygments_lexer": "ipython3",
   "version": "3.10.6"
  },
  "orig_nbformat": 4,
  "vscode": {
   "interpreter": {
    "hash": "df8bb2c173ab536d0825b52fcb9c4786f72d97dffb3bc108f414b52abbd3282a"
   }
  }
 },
 "nbformat": 4,
 "nbformat_minor": 2
}
