{
 "cells": [
  {
   "attachments": {},
   "cell_type": "markdown",
   "metadata": {},
   "source": [
    "- PROYECTO DE ML "
   ]
  },
  {
   "cell_type": "code",
   "execution_count": 1,
   "metadata": {},
   "outputs": [],
   "source": [
    "# Importar librerias necesarias\n",
    "\n",
    "import pandas as pd\n",
    "from surprise import SVD\n",
    "from surprise import SVDpp\n",
    "from surprise import Dataset, Reader\n",
    "from surprise.model_selection import train_test_split\n",
    "from surprise import accuracy\n",
    "from collections import defaultdict\n",
    "import matplotlib.pyplot as plt\n",
    "import seaborn as sns\n",
    "import numpy as np"
   ]
  },
  {
   "cell_type": "code",
   "execution_count": 2,
   "metadata": {},
   "outputs": [
    {
     "data": {
      "text/html": [
       "<div>\n",
       "<style scoped>\n",
       "    .dataframe tbody tr th:only-of-type {\n",
       "        vertical-align: middle;\n",
       "    }\n",
       "\n",
       "    .dataframe tbody tr th {\n",
       "        vertical-align: top;\n",
       "    }\n",
       "\n",
       "    .dataframe thead th {\n",
       "        text-align: right;\n",
       "    }\n",
       "</style>\n",
       "<table border=\"1\" class=\"dataframe\">\n",
       "  <thead>\n",
       "    <tr style=\"text-align: right;\">\n",
       "      <th></th>\n",
       "      <th>score</th>\n",
       "      <th>id</th>\n",
       "      <th>userid</th>\n",
       "      <th>date</th>\n",
       "      <th>title</th>\n",
       "    </tr>\n",
       "  </thead>\n",
       "  <tbody>\n",
       "    <tr>\n",
       "      <th>0</th>\n",
       "      <td>1.0</td>\n",
       "      <td>as680</td>\n",
       "      <td>1</td>\n",
       "      <td>2015-03-09</td>\n",
       "      <td>the english civil war</td>\n",
       "    </tr>\n",
       "    <tr>\n",
       "      <th>1</th>\n",
       "      <td>4.5</td>\n",
       "      <td>ns2186</td>\n",
       "      <td>1</td>\n",
       "      <td>2015-03-09</td>\n",
       "      <td>latte and the magic waterstone</td>\n",
       "    </tr>\n",
       "    <tr>\n",
       "      <th>2</th>\n",
       "      <td>5.0</td>\n",
       "      <td>hs2381</td>\n",
       "      <td>1</td>\n",
       "      <td>2015-03-09</td>\n",
       "      <td>la diosa coronada</td>\n",
       "    </tr>\n",
       "    <tr>\n",
       "      <th>3</th>\n",
       "      <td>5.0</td>\n",
       "      <td>ns3663</td>\n",
       "      <td>1</td>\n",
       "      <td>2015-03-09</td>\n",
       "      <td>frankenstein’s monster’s monster, frankenstein</td>\n",
       "    </tr>\n",
       "    <tr>\n",
       "      <th>4</th>\n",
       "      <td>5.0</td>\n",
       "      <td>as9500</td>\n",
       "      <td>1</td>\n",
       "      <td>2015-03-09</td>\n",
       "      <td>kept woman</td>\n",
       "    </tr>\n",
       "  </tbody>\n",
       "</table>\n",
       "</div>"
      ],
      "text/plain": [
       "   score      id  userid        date  \\\n",
       "0    1.0   as680       1  2015-03-09   \n",
       "1    4.5  ns2186       1  2015-03-09   \n",
       "2    5.0  hs2381       1  2015-03-09   \n",
       "3    5.0  ns3663       1  2015-03-09   \n",
       "4    5.0  as9500       1  2015-03-09   \n",
       "\n",
       "                                            title  \n",
       "0                           the english civil war  \n",
       "1                  latte and the magic waterstone  \n",
       "2                               la diosa coronada  \n",
       "3  frankenstein’s monster’s monster, frankenstein  \n",
       "4                                      kept woman  "
      ]
     },
     "execution_count": 2,
     "metadata": {},
     "output_type": "execute_result"
    }
   ],
   "source": [
    "# Cargo el dataset de ratings\n",
    "\n",
    "df = pd.read_parquet('rating_data.parquet')\n",
    "df['score'] = df['score'].astype(float)\n",
    "df.head()"
   ]
  },
  {
   "attachments": {},
   "cell_type": "markdown",
   "metadata": {},
   "source": [
    "ANALISIS EXPLORATORIO"
   ]
  },
  {
   "cell_type": "code",
   "execution_count": 3,
   "metadata": {},
   "outputs": [
    {
     "data": {
      "text/html": [
       "<div>\n",
       "<style scoped>\n",
       "    .dataframe tbody tr th:only-of-type {\n",
       "        vertical-align: middle;\n",
       "    }\n",
       "\n",
       "    .dataframe tbody tr th {\n",
       "        vertical-align: top;\n",
       "    }\n",
       "\n",
       "    .dataframe thead th {\n",
       "        text-align: right;\n",
       "    }\n",
       "</style>\n",
       "<table border=\"1\" class=\"dataframe\">\n",
       "  <thead>\n",
       "    <tr style=\"text-align: right;\">\n",
       "      <th></th>\n",
       "      <th>score</th>\n",
       "      <th>id</th>\n",
       "      <th>userid</th>\n",
       "      <th>date</th>\n",
       "      <th>title</th>\n",
       "    </tr>\n",
       "  </thead>\n",
       "  <tbody>\n",
       "    <tr>\n",
       "      <th>2232</th>\n",
       "      <td>3.0</td>\n",
       "      <td>hs963</td>\n",
       "      <td>24</td>\n",
       "      <td>2001-01-20</td>\n",
       "      <td>kings of pain</td>\n",
       "    </tr>\n",
       "    <tr>\n",
       "      <th>2289</th>\n",
       "      <td>3.0</td>\n",
       "      <td>as6216</td>\n",
       "      <td>24</td>\n",
       "      <td>2001-01-20</td>\n",
       "      <td>sorority row</td>\n",
       "    </tr>\n",
       "    <tr>\n",
       "      <th>2290</th>\n",
       "      <td>2.0</td>\n",
       "      <td>as2674</td>\n",
       "      <td>24</td>\n",
       "      <td>2001-01-19</td>\n",
       "      <td>dhoom</td>\n",
       "    </tr>\n",
       "    <tr>\n",
       "      <th>3638</th>\n",
       "      <td>3.5</td>\n",
       "      <td>ns8019</td>\n",
       "      <td>43</td>\n",
       "      <td>2007-05-15</td>\n",
       "      <td>silent hill: revelation</td>\n",
       "    </tr>\n",
       "    <tr>\n",
       "      <th>4696</th>\n",
       "      <td>4.0</td>\n",
       "      <td>hs70</td>\n",
       "      <td>47</td>\n",
       "      <td>2000-10-02</td>\n",
       "      <td>men's college hockey</td>\n",
       "    </tr>\n",
       "    <tr>\n",
       "      <th>...</th>\n",
       "      <td>...</td>\n",
       "      <td>...</td>\n",
       "      <td>...</td>\n",
       "      <td>...</td>\n",
       "      <td>...</td>\n",
       "    </tr>\n",
       "    <tr>\n",
       "      <th>11021476</th>\n",
       "      <td>0.5</td>\n",
       "      <td>ns8754</td>\n",
       "      <td>124325</td>\n",
       "      <td>2017-03-27</td>\n",
       "      <td>withdrawn</td>\n",
       "    </tr>\n",
       "    <tr>\n",
       "      <th>11021637</th>\n",
       "      <td>0.5</td>\n",
       "      <td>ns7021</td>\n",
       "      <td>124325</td>\n",
       "      <td>2017-03-27</td>\n",
       "      <td>hridaynath</td>\n",
       "    </tr>\n",
       "    <tr>\n",
       "      <th>11021743</th>\n",
       "      <td>3.5</td>\n",
       "      <td>hs2760</td>\n",
       "      <td>124325</td>\n",
       "      <td>2017-03-27</td>\n",
       "      <td>mobile suit gundam the origin</td>\n",
       "    </tr>\n",
       "    <tr>\n",
       "      <th>11021766</th>\n",
       "      <td>0.5</td>\n",
       "      <td>ns4902</td>\n",
       "      <td>124325</td>\n",
       "      <td>2017-03-27</td>\n",
       "      <td>the clapper</td>\n",
       "    </tr>\n",
       "    <tr>\n",
       "      <th>11021826</th>\n",
       "      <td>0.5</td>\n",
       "      <td>ns1722</td>\n",
       "      <td>124325</td>\n",
       "      <td>2017-03-27</td>\n",
       "      <td>a lion in the house</td>\n",
       "    </tr>\n",
       "  </tbody>\n",
       "</table>\n",
       "<p>10466 rows × 5 columns</p>\n",
       "</div>"
      ],
      "text/plain": [
       "          score      id  userid        date                          title\n",
       "2232        3.0   hs963      24  2001-01-20                  kings of pain\n",
       "2289        3.0  as6216      24  2001-01-20                   sorority row\n",
       "2290        2.0  as2674      24  2001-01-19                          dhoom\n",
       "3638        3.5  ns8019      43  2007-05-15        silent hill: revelation\n",
       "4696        4.0    hs70      47  2000-10-02           men's college hockey\n",
       "...         ...     ...     ...         ...                            ...\n",
       "11021476    0.5  ns8754  124325  2017-03-27                      withdrawn\n",
       "11021637    0.5  ns7021  124325  2017-03-27                     hridaynath\n",
       "11021743    3.5  hs2760  124325  2017-03-27  mobile suit gundam the origin\n",
       "11021766    0.5  ns4902  124325  2017-03-27                    the clapper\n",
       "11021826    0.5  ns1722  124325  2017-03-27            a lion in the house\n",
       "\n",
       "[10466 rows x 5 columns]"
      ]
     },
     "execution_count": 3,
     "metadata": {},
     "output_type": "execute_result"
    }
   ],
   "source": [
    "# Busco valores duplicados en la tabla\n",
    "df[df.duplicated()]"
   ]
  },
  {
   "cell_type": "code",
   "execution_count": 4,
   "metadata": {},
   "outputs": [
    {
     "data": {
      "text/html": [
       "<div>\n",
       "<style scoped>\n",
       "    .dataframe tbody tr th:only-of-type {\n",
       "        vertical-align: middle;\n",
       "    }\n",
       "\n",
       "    .dataframe tbody tr th {\n",
       "        vertical-align: top;\n",
       "    }\n",
       "\n",
       "    .dataframe thead th {\n",
       "        text-align: right;\n",
       "    }\n",
       "</style>\n",
       "<table border=\"1\" class=\"dataframe\">\n",
       "  <thead>\n",
       "    <tr style=\"text-align: right;\">\n",
       "      <th></th>\n",
       "      <th>score</th>\n",
       "      <th>id</th>\n",
       "      <th>userid</th>\n",
       "      <th>date</th>\n",
       "      <th>title</th>\n",
       "    </tr>\n",
       "  </thead>\n",
       "  <tbody>\n",
       "    <tr>\n",
       "      <th>4579</th>\n",
       "      <td>4.0</td>\n",
       "      <td>hs70</td>\n",
       "      <td>47</td>\n",
       "      <td>2000-10-02</td>\n",
       "      <td>men's college hockey</td>\n",
       "    </tr>\n",
       "    <tr>\n",
       "      <th>4696</th>\n",
       "      <td>4.0</td>\n",
       "      <td>hs70</td>\n",
       "      <td>47</td>\n",
       "      <td>2000-10-02</td>\n",
       "      <td>men's college hockey</td>\n",
       "    </tr>\n",
       "    <tr>\n",
       "      <th>19341</th>\n",
       "      <td>3.5</td>\n",
       "      <td>hs70</td>\n",
       "      <td>231</td>\n",
       "      <td>2007-04-26</td>\n",
       "      <td>men's college hockey</td>\n",
       "    </tr>\n",
       "    <tr>\n",
       "      <th>40344</th>\n",
       "      <td>4.0</td>\n",
       "      <td>hs70</td>\n",
       "      <td>434</td>\n",
       "      <td>2006-12-08</td>\n",
       "      <td>men's college hockey</td>\n",
       "    </tr>\n",
       "    <tr>\n",
       "      <th>52613</th>\n",
       "      <td>5.0</td>\n",
       "      <td>hs70</td>\n",
       "      <td>551</td>\n",
       "      <td>2015-04-20</td>\n",
       "      <td>men's college hockey</td>\n",
       "    </tr>\n",
       "    <tr>\n",
       "      <th>...</th>\n",
       "      <td>...</td>\n",
       "      <td>...</td>\n",
       "      <td>...</td>\n",
       "      <td>...</td>\n",
       "      <td>...</td>\n",
       "    </tr>\n",
       "    <tr>\n",
       "      <th>9381368</th>\n",
       "      <td>3.0</td>\n",
       "      <td>hs70</td>\n",
       "      <td>269308</td>\n",
       "      <td>2008-10-29</td>\n",
       "      <td>men's college hockey</td>\n",
       "    </tr>\n",
       "    <tr>\n",
       "      <th>9438037</th>\n",
       "      <td>4.0</td>\n",
       "      <td>hs70</td>\n",
       "      <td>270036</td>\n",
       "      <td>2014-07-24</td>\n",
       "      <td>men's college hockey</td>\n",
       "    </tr>\n",
       "    <tr>\n",
       "      <th>9445788</th>\n",
       "      <td>3.0</td>\n",
       "      <td>hs70</td>\n",
       "      <td>270112</td>\n",
       "      <td>1996-08-20</td>\n",
       "      <td>men's college hockey</td>\n",
       "    </tr>\n",
       "    <tr>\n",
       "      <th>9472431</th>\n",
       "      <td>5.0</td>\n",
       "      <td>hs70</td>\n",
       "      <td>270331</td>\n",
       "      <td>1996-06-16</td>\n",
       "      <td>men's college hockey</td>\n",
       "    </tr>\n",
       "    <tr>\n",
       "      <th>9517670</th>\n",
       "      <td>4.0</td>\n",
       "      <td>hs70</td>\n",
       "      <td>270842</td>\n",
       "      <td>2003-02-09</td>\n",
       "      <td>men's college hockey</td>\n",
       "    </tr>\n",
       "  </tbody>\n",
       "</table>\n",
       "<p>486 rows × 5 columns</p>\n",
       "</div>"
      ],
      "text/plain": [
       "         score    id  userid        date                 title\n",
       "4579       4.0  hs70      47  2000-10-02  men's college hockey\n",
       "4696       4.0  hs70      47  2000-10-02  men's college hockey\n",
       "19341      3.5  hs70     231  2007-04-26  men's college hockey\n",
       "40344      4.0  hs70     434  2006-12-08  men's college hockey\n",
       "52613      5.0  hs70     551  2015-04-20  men's college hockey\n",
       "...        ...   ...     ...         ...                   ...\n",
       "9381368    3.0  hs70  269308  2008-10-29  men's college hockey\n",
       "9438037    4.0  hs70  270036  2014-07-24  men's college hockey\n",
       "9445788    3.0  hs70  270112  1996-08-20  men's college hockey\n",
       "9472431    5.0  hs70  270331  1996-06-16  men's college hockey\n",
       "9517670    4.0  hs70  270842  2003-02-09  men's college hockey\n",
       "\n",
       "[486 rows x 5 columns]"
      ]
     },
     "execution_count": 4,
     "metadata": {},
     "output_type": "execute_result"
    }
   ],
   "source": [
    "# Tomo una muestra de los resultados anteriores\n",
    "df[df['id'] == 'hs70'].sort_values('userid')"
   ]
  },
  {
   "cell_type": "code",
   "execution_count": 5,
   "metadata": {},
   "outputs": [
    {
     "name": "stdout",
     "output_type": "stream",
     "text": [
      "La cantidad de registros duplicados es: 10466\n"
     ]
    }
   ],
   "source": [
    "print(f'La cantidad de registros duplicados es: {df.duplicated().sum()}')"
   ]
  },
  {
   "cell_type": "code",
   "execution_count": 6,
   "metadata": {},
   "outputs": [],
   "source": [
    "# Elimino los valores duplicados\n",
    "df.drop_duplicates(inplace= True)"
   ]
  },
  {
   "cell_type": "code",
   "execution_count": 7,
   "metadata": {},
   "outputs": [
    {
     "name": "stdout",
     "output_type": "stream",
     "text": [
      "La cantidad de registros duplicados es: 0\n"
     ]
    }
   ],
   "source": [
    "# Hago conteo nuevamente\n",
    "print(f'La cantidad de registros duplicados es: {df.duplicated().sum()}')"
   ]
  },
  {
   "cell_type": "code",
   "execution_count": 8,
   "metadata": {},
   "outputs": [
    {
     "data": {
      "image/png": "[encoded data removed]",
      "text/plain": [
       "<Figure size 2500x1000 with 3 Axes>"
      ]
     },
     "metadata": {},
     "output_type": "display_data"
    }
   ],
   "source": [
    "# Ahora a buscar valores faltantes\n",
    "import missingno as msno\n",
    "\n",
    "msno.bar(df)\n",
    "plt.show()"
   ]
  },
  {
   "cell_type": "code",
   "execution_count": 9,
   "metadata": {},
   "outputs": [
    {
     "data": {
      "image/png": "[encoded data removed]",
      "text/plain": [
       "<Figure size 640x480 with 1 Axes>"
      ]
     },
     "metadata": {},
     "output_type": "display_data"
    }
   ],
   "source": [
    "# Identificando valores atipicos\n",
    "\n",
    "sns.boxplot(x = 'score', data = df)\n",
    "plt.show()"
   ]
  },
  {
   "cell_type": "code",
   "execution_count": 10,
   "metadata": {},
   "outputs": [
    {
     "data": {
      "text/plain": [
       "0.5"
      ]
     },
     "execution_count": 10,
     "metadata": {},
     "output_type": "execute_result"
    }
   ],
   "source": [
    "# No existen valores atipicos\n",
    "df.score.min()"
   ]
  },
  {
   "cell_type": "code",
   "execution_count": 11,
   "metadata": {},
   "outputs": [
    {
     "data": {
      "text/html": [
       "<div>\n",
       "<style scoped>\n",
       "    .dataframe tbody tr th:only-of-type {\n",
       "        vertical-align: middle;\n",
       "    }\n",
       "\n",
       "    .dataframe tbody tr th {\n",
       "        vertical-align: top;\n",
       "    }\n",
       "\n",
       "    .dataframe thead th {\n",
       "        text-align: right;\n",
       "    }\n",
       "</style>\n",
       "<table border=\"1\" class=\"dataframe\">\n",
       "  <thead>\n",
       "    <tr style=\"text-align: right;\">\n",
       "      <th></th>\n",
       "      <th>userid</th>\n",
       "      <th>id</th>\n",
       "      <th>score</th>\n",
       "      <th>title</th>\n",
       "    </tr>\n",
       "  </thead>\n",
       "  <tbody>\n",
       "    <tr>\n",
       "      <th>0</th>\n",
       "      <td>1</td>\n",
       "      <td>as680</td>\n",
       "      <td>1.0</td>\n",
       "      <td>the english civil war</td>\n",
       "    </tr>\n",
       "    <tr>\n",
       "      <th>1</th>\n",
       "      <td>1</td>\n",
       "      <td>ns2186</td>\n",
       "      <td>4.5</td>\n",
       "      <td>latte and the magic waterstone</td>\n",
       "    </tr>\n",
       "    <tr>\n",
       "      <th>2</th>\n",
       "      <td>1</td>\n",
       "      <td>hs2381</td>\n",
       "      <td>5.0</td>\n",
       "      <td>la diosa coronada</td>\n",
       "    </tr>\n",
       "    <tr>\n",
       "      <th>3</th>\n",
       "      <td>1</td>\n",
       "      <td>ns3663</td>\n",
       "      <td>5.0</td>\n",
       "      <td>frankenstein’s monster’s monster, frankenstein</td>\n",
       "    </tr>\n",
       "    <tr>\n",
       "      <th>4</th>\n",
       "      <td>1</td>\n",
       "      <td>as9500</td>\n",
       "      <td>5.0</td>\n",
       "      <td>kept woman</td>\n",
       "    </tr>\n",
       "  </tbody>\n",
       "</table>\n",
       "</div>"
      ],
      "text/plain": [
       "   userid      id  score                                           title\n",
       "0       1   as680    1.0                           the english civil war\n",
       "1       1  ns2186    4.5                  latte and the magic waterstone\n",
       "2       1  hs2381    5.0                               la diosa coronada\n",
       "3       1  ns3663    5.0  frankenstein’s monster’s monster, frankenstein\n",
       "4       1  as9500    5.0                                      kept woman"
      ]
     },
     "execution_count": 11,
     "metadata": {},
     "output_type": "execute_result"
    }
   ],
   "source": [
    "# creo df de ratings\n",
    "rating = df[['userid', 'id', 'score','title']]\n",
    "rating.head()"
   ]
  },
  {
   "attachments": {},
   "cell_type": "markdown",
   "metadata": {},
   "source": [
    "MACHINE LEARNING"
   ]
  },
  {
   "cell_type": "code",
   "execution_count": 12,
   "metadata": {},
   "outputs": [],
   "source": [
    "# Uso Reader para darle a los datos el formato que requiere el algoritmo\n",
    "reader = Reader()\n",
    "N = 100000\n",
    "data = Dataset.load_from_df(rating[rating.columns[:3]][:N], reader)"
   ]
  },
  {
   "cell_type": "code",
   "execution_count": 13,
   "metadata": {},
   "outputs": [],
   "source": [
    "#Separo los datos en test y entrenamiento\n",
    "\n",
    "train, test = train_test_split(data, test_size=0.25)"
   ]
  },
  {
   "cell_type": "code",
   "execution_count": 14,
   "metadata": {},
   "outputs": [],
   "source": [
    "#Instanciando el algoritmo y entrenamos\n",
    "svd = SVD(n_factors= 1, n_epochs= 20, lr_all= 0.002, reg_all= 0.02)\n",
    "svd.fit(train)\n",
    "recom = svd.test(test)"
   ]
  },
  {
   "cell_type": "code",
   "execution_count": 15,
   "metadata": {},
   "outputs": [
    {
     "name": "stdout",
     "output_type": "stream",
     "text": [
      "MAE:  0.7374\n",
      "0.7374191723892628\n",
      "RMSE: 0.9441\n"
     ]
    },
    {
     "data": {
      "text/plain": [
       "0.9440800267787791"
      ]
     },
     "execution_count": 15,
     "metadata": {},
     "output_type": "execute_result"
    }
   ],
   "source": [
    "# Evaluamos\n",
    "print(accuracy.mae(recom))\n",
    "accuracy.rmse(recom)"
   ]
  },
  {
   "attachments": {},
   "cell_type": "markdown",
   "metadata": {},
   "source": [
    "OPTIMIZACION DE HIPERPARAMETROS"
   ]
  },
  {
   "cell_type": "code",
   "execution_count": 16,
   "metadata": {},
   "outputs": [
    {
     "name": "stdout",
     "output_type": "stream",
     "text": [
      "1\n",
      "Evaluating RMSE of algorithm SVD on 3 split(s).\n",
      "\n",
      "                  Fold 1  Fold 2  Fold 3  Mean    Std     \n",
      "RMSE (testset)    0.9522  0.9500  0.9490  0.9504  0.0013  \n",
      "Fit time          0.40    0.42    0.41    0.41    0.01    \n",
      "Test time         0.26    0.18    0.16    0.20    0.04    \n",
      "2\n",
      "Evaluating RMSE of algorithm SVD on 3 split(s).\n",
      "\n",
      "                  Fold 1  Fold 2  Fold 3  Mean    Std     \n",
      "RMSE (testset)    0.9530  0.9497  0.9482  0.9503  0.0020  \n",
      "Fit time          0.44    0.45    0.44    0.44    0.01    \n",
      "Test time         0.27    0.27    0.18    0.24    0.04    \n",
      "4\n",
      "Evaluating RMSE of algorithm SVD on 3 split(s).\n",
      "\n",
      "                  Fold 1  Fold 2  Fold 3  Mean    Std     \n",
      "RMSE (testset)    0.9497  0.9481  0.9508  0.9495  0.0011  \n",
      "Fit time          0.48    0.50    0.50    0.49    0.01    \n",
      "Test time         0.17    0.18    0.26    0.20    0.04    \n",
      "8\n",
      "Evaluating RMSE of algorithm SVD on 3 split(s).\n",
      "\n",
      "                  Fold 1  Fold 2  Fold 3  Mean    Std     \n",
      "RMSE (testset)    0.9534  0.9458  0.9502  0.9498  0.0031  \n",
      "Fit time          0.52    0.54    0.51    0.52    0.01    \n",
      "Test time         0.36    0.17    0.17    0.23    0.09    \n",
      "16\n",
      "Evaluating RMSE of algorithm SVD on 3 split(s).\n",
      "\n",
      "                  Fold 1  Fold 2  Fold 3  Mean    Std     \n",
      "RMSE (testset)    0.9483  0.9554  0.9483  0.9507  0.0034  \n",
      "Fit time          0.53    0.59    0.54    0.55    0.03    \n",
      "Test time         0.26    0.29    0.22    0.25    0.03    \n",
      "32\n",
      "Evaluating RMSE of algorithm SVD on 3 split(s).\n",
      "\n",
      "                  Fold 1  Fold 2  Fold 3  Mean    Std     \n",
      "RMSE (testset)    0.9587  0.9496  0.9500  0.9528  0.0042  \n",
      "Fit time          0.69    0.70    0.68    0.69    0.01    \n",
      "Test time         0.18    0.28    0.29    0.25    0.05    \n",
      "64\n",
      "Evaluating RMSE of algorithm SVD on 3 split(s).\n",
      "\n",
      "                  Fold 1  Fold 2  Fold 3  Mean    Std     \n",
      "RMSE (testset)    0.9608  0.9566  0.9549  0.9574  0.0025  \n",
      "Fit time          0.81    0.90    0.82    0.84    0.04    \n",
      "Test time         0.17    0.18    0.26    0.20    0.04    \n",
      "128\n",
      "Evaluating RMSE of algorithm SVD on 3 split(s).\n",
      "\n",
      "                  Fold 1  Fold 2  Fold 3  Mean    Std     \n",
      "RMSE (testset)    0.9589  0.9613  0.9626  0.9609  0.0015  \n",
      "Fit time          1.09    1.11    1.12    1.11    0.02    \n",
      "Test time         0.20    0.18    0.17    0.18    0.01    \n",
      "256\n",
      "Evaluating RMSE of algorithm SVD on 3 split(s).\n",
      "\n",
      "                  Fold 1  Fold 2  Fold 3  Mean    Std     \n",
      "RMSE (testset)    0.9695  0.9690  0.9707  0.9697  0.0007  \n",
      "Fit time          1.68    1.74    1.77    1.73    0.04    \n",
      "Test time         0.28    0.20    0.18    0.22    0.04    \n"
     ]
    }
   ],
   "source": [
    "from surprise.model_selection import cross_validate\n",
    "\n",
    "rmse_test_means = []\n",
    "factores = [1,2,4,8,16,32,64,128,256]\n",
    "\n",
    "for factor in factores:\n",
    "    print(factor)\n",
    "    model = SVD(n_factors=factor)\n",
    "    cv = cross_validate(model, data, measures=['RMSE'], cv = 3, verbose=True)\n",
    "    rmse_test_means.append(np.mean(cv['test_rmse']))"
   ]
  },
  {
   "cell_type": "code",
   "execution_count": 17,
   "metadata": {},
   "outputs": [
    {
     "data": {
      "image/png": "[encoded data removed]",
      "text/plain": [
       "<Figure size 640x480 with 1 Axes>"
      ]
     },
     "metadata": {},
     "output_type": "display_data"
    }
   ],
   "source": [
    "# Ploteamos desempeño según cantidad de factores de SVD\n",
    "\n",
    "plt.scatter(factores, rmse_test_means)\n",
    "plt.xlabel('Numero de factores')\n",
    "plt.ylabel('Error RMSE')\n",
    "plt.show()"
   ]
  },
  {
   "cell_type": "code",
   "execution_count": 18,
   "metadata": {},
   "outputs": [],
   "source": [
    "# GridSearch para buscar perfomance del mejor modelo\n",
    "\n",
    "from surprise.model_selection import GridSearchCV\n",
    "\n",
    "param_grid = {'n_factors': [1,2,3,4,5],'n_epochs': [5, 10,20], 'lr_all': [0.001, 0.002, 0.005],\n",
    "              'reg_all': [0.002, 0.02, 0.2]}\n",
    "gs = GridSearchCV(SVD, param_grid, measures=['rmse'], cv=3, n_jobs = -1)\n",
    "gs.fit(data)"
   ]
  },
  {
   "cell_type": "code",
   "execution_count": 19,
   "metadata": {},
   "outputs": [
    {
     "name": "stdout",
     "output_type": "stream",
     "text": [
      "0.9438092155819469\n",
      "{'n_factors': 2, 'n_epochs': 20, 'lr_all': 0.002, 'reg_all': 0.02}\n"
     ]
    }
   ],
   "source": [
    "# Observamos performance del mejor modelo\n",
    "\n",
    "print(gs.best_score['rmse'])\n",
    "print(gs.best_params['rmse'])"
   ]
  },
  {
   "cell_type": "code",
   "execution_count": 20,
   "metadata": {},
   "outputs": [],
   "source": [
    "# Luego de optimizar el modelo procedo a entrenar con la data completa  \n",
    "\n",
    "# Creo dataset completo\n",
    "data_full = data.build_full_trainset()"
   ]
  },
  {
   "cell_type": "code",
   "execution_count": 21,
   "metadata": {},
   "outputs": [
    {
     "data": {
      "text/plain": [
       "<surprise.prediction_algorithms.matrix_factorization.SVD at 0x173a290e470>"
      ]
     },
     "execution_count": 21,
     "metadata": {},
     "output_type": "execute_result"
    }
   ],
   "source": [
    "#Instancio modelo\n",
    "svd = SVD(n_factors= 1, n_epochs= 20, lr_all= 0.002, reg_all= 0.02)\n",
    "\n",
    "#Entreno modelo\n",
    "svd.fit(data_full)"
   ]
  },
  {
   "cell_type": "code",
   "execution_count": 22,
   "metadata": {},
   "outputs": [
    {
     "data": {
      "text/plain": [
       "Prediction(uid=5822, iid='ns564', r_ui=None, est=3.5852023276380223, details={'was_impossible': False})"
      ]
     },
     "execution_count": 22,
     "metadata": {},
     "output_type": "execute_result"
    }
   ],
   "source": [
    "#Pruebo la prediccion\n",
    "svd.predict(5822, 'ns564')"
   ]
  },
  {
   "cell_type": "code",
   "execution_count": 64,
   "metadata": {},
   "outputs": [],
   "source": [
    "# Desarollo la funcion\n",
    "user = 1859\n",
    "movie = 'ns45'\n",
    "scoring = 4 # Variables de prueba"
   ]
  },
  {
   "cell_type": "code",
   "execution_count": 65,
   "metadata": {},
   "outputs": [
    {
     "data": {
      "text/html": [
       "<div>\n",
       "<style scoped>\n",
       "    .dataframe tbody tr th:only-of-type {\n",
       "        vertical-align: middle;\n",
       "    }\n",
       "\n",
       "    .dataframe tbody tr th {\n",
       "        vertical-align: top;\n",
       "    }\n",
       "\n",
       "    .dataframe thead th {\n",
       "        text-align: right;\n",
       "    }\n",
       "</style>\n",
       "<table border=\"1\" class=\"dataframe\">\n",
       "  <thead>\n",
       "    <tr style=\"text-align: right;\">\n",
       "      <th></th>\n",
       "      <th>title</th>\n",
       "    </tr>\n",
       "    <tr>\n",
       "      <th>id</th>\n",
       "      <th></th>\n",
       "    </tr>\n",
       "  </thead>\n",
       "  <tbody>\n",
       "    <tr>\n",
       "      <th>as680</th>\n",
       "      <td>the english civil war</td>\n",
       "    </tr>\n",
       "    <tr>\n",
       "      <th>ns2186</th>\n",
       "      <td>latte and the magic waterstone</td>\n",
       "    </tr>\n",
       "    <tr>\n",
       "      <th>hs2381</th>\n",
       "      <td>la diosa coronada</td>\n",
       "    </tr>\n",
       "    <tr>\n",
       "      <th>ns3663</th>\n",
       "      <td>frankenstein’s monster’s monster, frankenstein</td>\n",
       "    </tr>\n",
       "    <tr>\n",
       "      <th>as9500</th>\n",
       "      <td>kept woman</td>\n",
       "    </tr>\n",
       "    <tr>\n",
       "      <th>...</th>\n",
       "      <td>...</td>\n",
       "    </tr>\n",
       "    <tr>\n",
       "      <th>ns4069</th>\n",
       "      <td>a second chance</td>\n",
       "    </tr>\n",
       "    <tr>\n",
       "      <th>ds619</th>\n",
       "      <td>star wars: the clone wars</td>\n",
       "    </tr>\n",
       "    <tr>\n",
       "      <th>ns7976</th>\n",
       "      <td>secrets of scotland yard</td>\n",
       "    </tr>\n",
       "    <tr>\n",
       "      <th>ns1837</th>\n",
       "      <td>disconnect</td>\n",
       "    </tr>\n",
       "    <tr>\n",
       "      <th>ns720</th>\n",
       "      <td>power rangers dino fury</td>\n",
       "    </tr>\n",
       "  </tbody>\n",
       "</table>\n",
       "<p>22998 rows × 1 columns</p>\n",
       "</div>"
      ],
      "text/plain": [
       "                                                 title\n",
       "id                                                    \n",
       "as680                            the english civil war\n",
       "ns2186                  latte and the magic waterstone\n",
       "hs2381                               la diosa coronada\n",
       "ns3663  frankenstein’s monster’s monster, frankenstein\n",
       "as9500                                      kept woman\n",
       "...                                                ...\n",
       "ns4069                                 a second chance\n",
       "ds619                        star wars: the clone wars\n",
       "ns7976                        secrets of scotland yard\n",
       "ns1837                                      disconnect\n",
       "ns720                          power rangers dino fury\n",
       "\n",
       "[22998 rows x 1 columns]"
      ]
     },
     "execution_count": 65,
     "metadata": {},
     "output_type": "execute_result"
    }
   ],
   "source": [
    "# Df con listado de todas las peliculas\n",
    "all_movie = rating[['id', 'title']].drop_duplicates().set_index('id').iloc[:22998].copy()\n",
    "all_movie"
   ]
  },
  {
   "cell_type": "code",
   "execution_count": 66,
   "metadata": {},
   "outputs": [
    {
     "data": {
      "text/html": [
       "<div>\n",
       "<style scoped>\n",
       "    .dataframe tbody tr th:only-of-type {\n",
       "        vertical-align: middle;\n",
       "    }\n",
       "\n",
       "    .dataframe tbody tr th {\n",
       "        vertical-align: top;\n",
       "    }\n",
       "\n",
       "    .dataframe thead th {\n",
       "        text-align: right;\n",
       "    }\n",
       "</style>\n",
       "<table border=\"1\" class=\"dataframe\">\n",
       "  <thead>\n",
       "    <tr style=\"text-align: right;\">\n",
       "      <th></th>\n",
       "      <th>userid</th>\n",
       "      <th>id</th>\n",
       "      <th>score</th>\n",
       "      <th>title</th>\n",
       "    </tr>\n",
       "  </thead>\n",
       "  <tbody>\n",
       "    <tr>\n",
       "      <th>178508</th>\n",
       "      <td>1859</td>\n",
       "      <td>as45</td>\n",
       "      <td>4.0</td>\n",
       "      <td>yoga for relaxation anywhere</td>\n",
       "    </tr>\n",
       "    <tr>\n",
       "      <th>178509</th>\n",
       "      <td>1859</td>\n",
       "      <td>ns5369</td>\n",
       "      <td>4.0</td>\n",
       "      <td>the incredible jessica james</td>\n",
       "    </tr>\n",
       "    <tr>\n",
       "      <th>178510</th>\n",
       "      <td>1859</td>\n",
       "      <td>ns4416</td>\n",
       "      <td>4.0</td>\n",
       "      <td>brainchild</td>\n",
       "    </tr>\n",
       "    <tr>\n",
       "      <th>178511</th>\n",
       "      <td>1859</td>\n",
       "      <td>ns898</td>\n",
       "      <td>4.5</td>\n",
       "      <td>use for my talent</td>\n",
       "    </tr>\n",
       "    <tr>\n",
       "      <th>178512</th>\n",
       "      <td>1859</td>\n",
       "      <td>ns8652</td>\n",
       "      <td>4.5</td>\n",
       "      <td>tyson</td>\n",
       "    </tr>\n",
       "    <tr>\n",
       "      <th>...</th>\n",
       "      <td>...</td>\n",
       "      <td>...</td>\n",
       "      <td>...</td>\n",
       "      <td>...</td>\n",
       "    </tr>\n",
       "    <tr>\n",
       "      <th>179284</th>\n",
       "      <td>1859</td>\n",
       "      <td>as5744</td>\n",
       "      <td>3.5</td>\n",
       "      <td>mcgraw ave</td>\n",
       "    </tr>\n",
       "    <tr>\n",
       "      <th>179285</th>\n",
       "      <td>1859</td>\n",
       "      <td>ds1411</td>\n",
       "      <td>3.0</td>\n",
       "      <td>winnie the pooh: springtime with roo</td>\n",
       "    </tr>\n",
       "    <tr>\n",
       "      <th>179286</th>\n",
       "      <td>1859</td>\n",
       "      <td>ns6519</td>\n",
       "      <td>4.0</td>\n",
       "      <td>come and find me</td>\n",
       "    </tr>\n",
       "    <tr>\n",
       "      <th>179287</th>\n",
       "      <td>1859</td>\n",
       "      <td>hs1534</td>\n",
       "      <td>3.5</td>\n",
       "      <td>jillian's mystery craft box by pocket.watch</td>\n",
       "    </tr>\n",
       "    <tr>\n",
       "      <th>179288</th>\n",
       "      <td>1859</td>\n",
       "      <td>ns3971</td>\n",
       "      <td>4.0</td>\n",
       "      <td>versailles</td>\n",
       "    </tr>\n",
       "  </tbody>\n",
       "</table>\n",
       "<p>780 rows × 4 columns</p>\n",
       "</div>"
      ],
      "text/plain": [
       "        userid      id  score                                        title\n",
       "178508    1859    as45    4.0                 yoga for relaxation anywhere\n",
       "178509    1859  ns5369    4.0                 the incredible jessica james\n",
       "178510    1859  ns4416    4.0                                   brainchild\n",
       "178511    1859   ns898    4.5                            use for my talent\n",
       "178512    1859  ns8652    4.5                                        tyson\n",
       "...        ...     ...    ...                                          ...\n",
       "179284    1859  as5744    3.5                                   mcgraw ave\n",
       "179285    1859  ds1411    3.0         winnie the pooh: springtime with roo\n",
       "179286    1859  ns6519    4.0                             come and find me\n",
       "179287    1859  hs1534    3.5  jillian's mystery craft box by pocket.watch\n",
       "179288    1859  ns3971    4.0                                   versailles\n",
       "\n",
       "[780 rows x 4 columns]"
      ]
     },
     "execution_count": 66,
     "metadata": {},
     "output_type": "execute_result"
    }
   ],
   "source": [
    "# Df con las peliculas que el usuario ya vio\n",
    "\n",
    "movie_saw = rating[rating['userid'] == user]\n",
    "movie_saw"
   ]
  },
  {
   "cell_type": "code",
   "execution_count": 67,
   "metadata": {},
   "outputs": [],
   "source": [
    "#Extraemos peliculas que ha visto\n",
    "all_movie.drop(movie_saw.id, inplace= True)\n",
    "\n"
   ]
  },
  {
   "cell_type": "code",
   "execution_count": 68,
   "metadata": {},
   "outputs": [],
   "source": [
    "all_movie = all_movie.reset_index()"
   ]
  },
  {
   "cell_type": "code",
   "execution_count": 69,
   "metadata": {},
   "outputs": [],
   "source": [
    "# Recomendamos\n",
    "\n",
    "all_movie['Estimate_Score'] = all_movie['id'].apply(lambda x: svd.predict(user, x).est)"
   ]
  },
  {
   "cell_type": "code",
   "execution_count": 70,
   "metadata": {},
   "outputs": [
    {
     "data": {
      "text/html": [
       "<div>\n",
       "<style scoped>\n",
       "    .dataframe tbody tr th:only-of-type {\n",
       "        vertical-align: middle;\n",
       "    }\n",
       "\n",
       "    .dataframe tbody tr th {\n",
       "        vertical-align: top;\n",
       "    }\n",
       "\n",
       "    .dataframe thead th {\n",
       "        text-align: right;\n",
       "    }\n",
       "</style>\n",
       "<table border=\"1\" class=\"dataframe\">\n",
       "  <thead>\n",
       "    <tr style=\"text-align: right;\">\n",
       "      <th></th>\n",
       "      <th>id</th>\n",
       "      <th>title</th>\n",
       "      <th>Estimate_Score</th>\n",
       "    </tr>\n",
       "  </thead>\n",
       "  <tbody>\n",
       "  </tbody>\n",
       "</table>\n",
       "</div>"
      ],
      "text/plain": [
       "Empty DataFrame\n",
       "Columns: [id, title, Estimate_Score]\n",
       "Index: []"
      ]
     },
     "execution_count": 70,
     "metadata": {},
     "output_type": "execute_result"
    }
   ],
   "source": [
    "recom_movie = all_movie.loc[all_movie['Estimate_Score'] >= scoring]\n",
    "recom_movie"
   ]
  },
  {
   "cell_type": "code",
   "execution_count": 71,
   "metadata": {},
   "outputs": [],
   "source": [
    "title = rating[['id', 'title']].drop_duplicates().iloc[:22998]"
   ]
  },
  {
   "cell_type": "code",
   "execution_count": 76,
   "metadata": {},
   "outputs": [
    {
     "name": "stdout",
     "output_type": "stream",
     "text": [
      "La pelicula \"jaws: the revenge\" No esta recomendada para el usuario \"1859\" si estimas una calificacion de 4\n"
     ]
    }
   ],
   "source": [
    "if movie in recom_movie['id'].to_list():    \n",
    "    print(f'La pelicula \"{title[title.id == movie].iloc[0,1]}\" esta recomendada para el usuario \"{user}\" se estima una calificacion de \"{round(all_movie.iloc[0,2], 2)}\"')\n",
    "\n",
    "else:\n",
    "    print(f'La pelicula \"{title[title.id == movie].iloc[0,1]}\" No esta recomendada para el usuario \"{user}\" si estimas una calificacion de {scoring}')"
   ]
  },
  {
   "cell_type": "code",
   "execution_count": 77,
   "metadata": {},
   "outputs": [],
   "source": [
    "# Ensamblo cada parte de la funcion\n",
    "\n",
    "def recommendation(user, movie, scoring):\n",
    "    all_movie = rating[['id', 'title']].drop_duplicates().set_index('id').iloc[:22998].copy()\n",
    "    \n",
    "    movie_saw = rating[rating['userid'] == user]\n",
    "\n",
    "    all_movie.drop(movie_saw.id, inplace= True)\n",
    "    all_movie = all_movie.reset_index()\n",
    "    all_movie['Estimate_Score'] = all_movie['id'].apply(lambda x: svd.predict(user, x).est)\n",
    "\n",
    "    recom_movie = all_movie.loc[all_movie['Estimate_Score'] >= scoring]\n",
    "\n",
    "    title = rating[['id', 'title']].drop_duplicates().iloc[:22998]\n",
    "\n",
    "    recomendada = f'La pelicula \"{title[title.id == movie].iloc[0,1]}\" esta recomendada para el usuario \"{user}\" se estima una calificacion de \"{round(all_movie.iloc[0,2], 2)}\"'\n",
    "    no_recomendada = f'La pelicula \"{title[title.id == movie].iloc[0,1]}\" No esta recomendada para el usuario \"{user}\" si estimas una calificacion de {scoring}'\n",
    "   \n",
    "    if movie in recom_movie['id'].to_list(): \n",
    "        return recomendada\n",
    "    else:\n",
    "        return no_recomendada\n",
    "       "
   ]
  },
  {
   "cell_type": "code",
   "execution_count": 78,
   "metadata": {},
   "outputs": [
    {
     "data": {
      "text/plain": [
       "'La pelicula \"jaws: the revenge\" No esta recomendada para el usuario \"1859\" si estimas una calificacion de 4'"
      ]
     },
     "execution_count": 78,
     "metadata": {},
     "output_type": "execute_result"
    }
   ],
   "source": [
    "recommendation(1859, 'ns45', 4)"
   ]
  },
  {
   "cell_type": "code",
   "execution_count": null,
   "metadata": {},
   "outputs": [],
   "source": [
    "#rating.to_parquet(\"deploy_data.parquet\", index=False) # exportamos df de rating ya limpio para efectos del deployment"
   ]
  },
  {
   "cell_type": "code",
   "execution_count": null,
   "metadata": {},
   "outputs": [],
   "source": [
    "# Guardamos el modelo\n",
    "#import pickle\n",
    " \n",
    "# Save the model under the cwd\n",
    "#pkl_filename = \"reco_movie.json\"\n",
    "#with open(pkl_filename, 'wb') as file:\n",
    "    #pickle.dump(svd, file)"
   ]
  }
 ],
 "metadata": {
  "kernelspec": {
   "display_name": "Python 3",
   "language": "python",
   "name": "python3"
  },
  "language_info": {
   "codemirror_mode": {
    "name": "ipython",
    "version": 3
   },
   "file_extension": ".py",
   "mimetype": "text/x-python",
   "name": "python",
   "nbconvert_exporter": "python",
   "pygments_lexer": "ipython3",
   "version": "3.10.6"
  },
  "orig_nbformat": 4,
  "vscode": {
   "interpreter": {
    "hash": "df8bb2c173ab536d0825b52fcb9c4786f72d97dffb3bc108f414b52abbd3282a"
   }
  }
 },
 "nbformat": 4,
 "nbformat_minor": 2
}
